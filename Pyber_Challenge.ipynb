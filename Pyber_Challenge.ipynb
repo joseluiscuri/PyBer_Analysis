{
 "cells": [
  {
   "cell_type": "code",
   "execution_count": 1,
   "metadata": {},
   "outputs": [],
   "source": [
    "#Dependencies\n",
    "%matplotlib inline\n",
    "import pandas as pd\n",
    "import numpy as np\n",
    "import matplotlib.pyplot as plt\n",
    "import matplotlib as mpl\n",
    "import os as os\n",
    "import scipy.stats as sts"
   ]
  },
  {
   "cell_type": "code",
   "execution_count": 2,
   "metadata": {},
   "outputs": [],
   "source": [
    "# Creation of DataFrames\n",
    "city_data_to_load = \"Resources/city_data.csv\"\n",
    "ride_data_to_load = \"Resources/ride_data.csv\"\n",
    "city_data_df=pd.read_csv(city_data_to_load)\n",
    "ride_data_df=pd.read_csv(ride_data_to_load)"
   ]
  },
  {
   "cell_type": "code",
   "execution_count": 3,
   "metadata": {},
   "outputs": [],
   "source": [
    "# Combining the data into a single dataset\n",
    "pyber_data_df = pd.merge(ride_data_df, city_data_df, how=\"left\", on=[\"city\", \"city\"])"
   ]
  },
  {
   "cell_type": "code",
   "execution_count": 12,
   "metadata": {
    "scrolled": true
   },
   "outputs": [
    {
     "data": {
      "text/plain": [
       "[16.57146777546781, 55.48628205128208, 39.50271428571431]"
      ]
     },
     "execution_count": 12,
     "metadata": {},
     "output_type": "execute_result"
    }
   ],
   "source": [
    "#Creating cities dataframes per city type\n",
    "urban_cities_df=pyber_data_df[pyber_data_df[\"type\"]==\"Urban\"]\n",
    "rural_cities_df=pyber_data_df[pyber_data_df[\"type\"]==\"Rural\"]\n",
    "suburban_cities_df=pyber_data_df[pyber_data_df[\"type\"]==\"Suburban\"]\n",
    "\n",
    "#Number of rides per city type\n",
    "urban_ride_count=urban_cities_df.count()[\"ride_id\"]\n",
    "rural_ride_count=rural_cities_df.count()[\"ride_id\"]\n",
    "suburban_ride_count=suburban_cities_df.count()[\"ride_id\"]\n",
    "\n",
    "#Number of drivers per city type\n",
    "urban_driver_count = city_data_df[city_data_df[\"type\"]==\"Urban\"].sum()[\"driver_count\"]\n",
    "suburban_driver_count = city_data_df[city_data_df[\"type\"]==\"Suburban\"].sum()[\"driver_count\"]\n",
    "rural_driver_count = city_data_df[city_data_df[\"type\"]==\"Rural\"].sum()[\"driver_count\"]\n",
    "\n",
    "#Total fare of each city type\n",
    "urban_total_fare = urban_cities_df.sum()[\"fare\"]\n",
    "rural_total_fare = rural_cities_df.sum()[\"fare\"]\n",
    "suburban_total_fare=suburban_cities_df.sum()[\"fare\"]\n",
    "total_fare = [urban_total_fare,rural_total_fare,suburban_total_fare]\n",
    "\n",
    "#Average fare of each city type\n",
    "urban_avg_fare = urban_cities_df.mean()[\"fare\"]\n",
    "rural_avg_fare = rural_cities_df.mean()[\"fare\"]\n",
    "suburban_avg_fare=suburban_cities_df.mean()[\"fare\"]\n",
    "avg_fare = [urban_avg_fare,rural_avg_fare,suburban_avg_fare]\n",
    "\n",
    "#Average fare per driver\n",
    "urban_avg_fareperdriver = urban_total_fare/urban_driver_count\n",
    "suburban_avg_fareperdriver = suburban_total_fare/suburban_driver_count\n",
    "rural_avg_fareperdriver = rural_total_fare/rural_driver_count\n",
    "avg_fare_driver = [urban_avg_fareperdriver,rural_avg_fareperdriver,suburban_avg_fareperdriver]\n",
    "\n",
    "avg_fare_driver"
   ]
  },
  {
   "cell_type": "code",
   "execution_count": 5,
   "metadata": {},
   "outputs": [
    {
     "data": {
      "text/plain": [
       "[24.52577230769236, 34.623440000000016, 30.97012800000002]"
      ]
     },
     "execution_count": 5,
     "metadata": {},
     "output_type": "execute_result"
    }
   ],
   "source": [
    "avg_fare"
   ]
  },
  {
   "cell_type": "code",
   "execution_count": 6,
   "metadata": {},
   "outputs": [
    {
     "data": {
      "text/plain": [
       "39854.380000000085"
      ]
     },
     "execution_count": 6,
     "metadata": {},
     "output_type": "execute_result"
    }
   ],
   "source": [
    "urban_total_fare"
   ]
  },
  {
   "cell_type": "code",
   "execution_count": 7,
   "metadata": {},
   "outputs": [
    {
     "data": {
      "text/plain": [
       "1625"
      ]
     },
     "execution_count": 7,
     "metadata": {},
     "output_type": "execute_result"
    }
   ],
   "source": [
    "urban_ride_count"
   ]
  },
  {
   "cell_type": "code",
   "execution_count": 8,
   "metadata": {},
   "outputs": [
    {
     "data": {
      "text/plain": [
       "24.52577230769236"
      ]
     },
     "execution_count": 8,
     "metadata": {},
     "output_type": "execute_result"
    }
   ],
   "source": [
    "urban_avg_fare"
   ]
  },
  {
   "cell_type": "code",
   "execution_count": 9,
   "metadata": {},
   "outputs": [],
   "source": [
    "summary_cities_df = pd"
   ]
  }
 ],
 "metadata": {
  "kernelspec": {
   "display_name": "PythonData",
   "language": "python",
   "name": "pythondata"
  },
  "language_info": {
   "codemirror_mode": {
    "name": "ipython",
    "version": 3
   },
   "file_extension": ".py",
   "mimetype": "text/x-python",
   "name": "python",
   "nbconvert_exporter": "python",
   "pygments_lexer": "ipython3",
   "version": "3.7.6"
  }
 },
 "nbformat": 4,
 "nbformat_minor": 4
}
